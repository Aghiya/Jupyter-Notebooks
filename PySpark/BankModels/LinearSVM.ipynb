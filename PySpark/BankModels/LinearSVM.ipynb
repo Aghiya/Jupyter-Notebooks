{
 "cells": [
  {
   "cell_type": "code",
   "execution_count": 1,
   "metadata": {},
   "outputs": [],
   "source": [
    "import matplotlib.pyplot as plt\n",
    "%matplotlib inline\n",
    "import numpy as np\n",
    "from pyspark.ml import Pipeline\n",
    "from pyspark.ml.classification import LinearSVC\n",
    "from pyspark.ml.feature import  OneHotEncoderEstimator, StringIndexer, VectorAssembler\n",
    "from pyspark.sql import functions as F, SparkSession\n",
    "import seaborn as sb\n",
    "from sklearn.metrics import auc, roc_curve"
   ]
  },
  {
   "cell_type": "markdown",
   "metadata": {},
   "source": [
    "# Create SparkSession and read CSV file."
   ]
  },
  {
   "cell_type": "code",
   "execution_count": 2,
   "metadata": {},
   "outputs": [],
   "source": [
    "spark = SparkSession.builder.appName('Bank Data - Linear SVM').getOrCreate()"
   ]
  },
  {
   "cell_type": "code",
   "execution_count": 3,
   "metadata": {},
   "outputs": [],
   "source": [
    "df = spark.read.csv('./bankdata.csv', header=True, inferSchema=True)"
   ]
  },
  {
   "cell_type": "markdown",
   "metadata": {},
   "source": [
    "# Use StringIndexer on categorical variable columns."
   ]
  },
  {
   "cell_type": "code",
   "execution_count": 4,
   "metadata": {},
   "outputs": [],
   "source": [
    "# Features that are categorical.\n",
    "categorical_features = ['job', 'marital', 'education', 'default', 'housing', 'loan', 'contact', 'month', 'poutcome']"
   ]
  },
  {
   "cell_type": "code",
   "execution_count": 5,
   "metadata": {},
   "outputs": [],
   "source": [
    "# List of indexers to apply to the data.\n",
    "indexers = [StringIndexer(inputCol=column, outputCol=column+\"_index\").fit(df) for column in categorical_features]"
   ]
  },
  {
   "cell_type": "code",
   "execution_count": 6,
   "metadata": {},
   "outputs": [],
   "source": [
    "# Create and apply the indexers.\n",
    "pipeline = Pipeline(stages=indexers)\n",
    "indexed_df = pipeline.fit(df).transform(df)"
   ]
  },
  {
   "cell_type": "code",
   "execution_count": 7,
   "metadata": {},
   "outputs": [],
   "source": [
    "# Drop original columns.\n",
    "indexed_df = indexed_df.drop('job', 'marital', 'education', 'default', 'housing', 'loan', 'contact', 'month', 'poutcome')"
   ]
  },
  {
   "cell_type": "markdown",
   "metadata": {},
   "source": [
    "# Create sparse vectors of each indexed column."
   ]
  },
  {
   "cell_type": "code",
   "execution_count": 8,
   "metadata": {},
   "outputs": [],
   "source": [
    "# List of columns that are indexed.\n",
    "indexed_cols = ['job_index','marital_index', 'education_index','default_index', 'housing_index', 'loan_index', 'contact_index',\n",
    "                'month_index', 'poutcome_index']"
   ]
  },
  {
   "cell_type": "code",
   "execution_count": 9,
   "metadata": {},
   "outputs": [],
   "source": [
    "# Create encoder.\n",
    "encoder = OneHotEncoderEstimator(inputCols=indexed_cols,\n",
    "                                 outputCols=[feat + '_sparse' for feat in indexed_cols])"
   ]
  },
  {
   "cell_type": "code",
   "execution_count": 10,
   "metadata": {},
   "outputs": [],
   "source": [
    "# Fit and apply encoder to dataframe.\n",
    "model = encoder.fit(indexed_df)\n",
    "sparse_indexed_df = model.transform(indexed_df)"
   ]
  },
  {
   "cell_type": "code",
   "execution_count": 11,
   "metadata": {},
   "outputs": [],
   "source": [
    "# Drop non-sparse indexed columns.\n",
    "sparse_indexed_df = sparse_indexed_df.drop('job_index','marital_index', 'education_index','default_index', 'housing_index',\n",
    "                                           'loan_index', 'contact_index','month_index', 'poutcome_index')"
   ]
  },
  {
   "cell_type": "markdown",
   "metadata": {},
   "source": [
    "# Use VectorAssembler to compress all independent variable columns into a dense vector."
   ]
  },
  {
   "cell_type": "code",
   "execution_count": 12,
   "metadata": {},
   "outputs": [],
   "source": [
    "# Create list of IVs.\n",
    "IV_features = ['age', 'balance','day', 'campaign', 'pdays', 'previous', 'housing_index_sparse', 'contact_index_sparse', \n",
    "             'job_index_sparse', 'loan_index_sparse', 'marital_index_sparse', 'default_index_sparse', 'month_index_sparse', \n",
    "             'education_index_sparse', 'poutcome_index_sparse']"
   ]
  },
  {
   "cell_type": "code",
   "execution_count": 13,
   "metadata": {},
   "outputs": [],
   "source": [
    "# Create the vector assembler and name the vector column \"features\".\n",
    "vec_assembler = VectorAssembler(inputCols=IV_features, outputCol='features')"
   ]
  },
  {
   "cell_type": "code",
   "execution_count": 14,
   "metadata": {},
   "outputs": [],
   "source": [
    "# Create the new dataframe that has the \"features\" column of dense vectors..\n",
    "dense_df = vec_assembler.transform(sparse_indexed_df)"
   ]
  },
  {
   "cell_type": "code",
   "execution_count": 15,
   "metadata": {},
   "outputs": [],
   "source": [
    "# Create a dataframe consisting only of IV vector and the churn indicator.\n",
    "processed_df = dense_df.select('features', 'churn')"
   ]
  },
  {
   "cell_type": "code",
   "execution_count": 16,
   "metadata": {},
   "outputs": [],
   "source": [
    "# Split the data into three categories: training data, testing data, and validation data.\n",
    "train, test, valid = processed_df.randomSplit([.6, .2, .2])"
   ]
  },
  {
   "cell_type": "markdown",
   "metadata": {},
   "source": [
    "# Create, train, and predict with Linear SVM model."
   ]
  },
  {
   "cell_type": "code",
   "execution_count": 17,
   "metadata": {},
   "outputs": [],
   "source": [
    "# Create Linear SVM model, fit the model to the training data.\n",
    "model = LinearSVC(labelCol='churn')\n",
    "model = model.fit(train)"
   ]
  },
  {
   "cell_type": "code",
   "execution_count": 18,
   "metadata": {},
   "outputs": [],
   "source": [
    "# Get predictions for the testing data and print the accuracy.\n",
    "test_preds = model.transform(test)"
   ]
  },
  {
   "cell_type": "code",
   "execution_count": 19,
   "metadata": {},
   "outputs": [],
   "source": [
    "# Get predictions for the validation data and print the accuracy.\n",
    "valid_preds = model.transform(valid)"
   ]
  },
  {
   "cell_type": "markdown",
   "metadata": {},
   "source": [
    "# Calculate accuracy scores."
   ]
  },
  {
   "cell_type": "code",
   "execution_count": 20,
   "metadata": {},
   "outputs": [],
   "source": [
    "def get_accuracy_score(preds_df):\n",
    "    return preds_df.filter(preds_df.churn == preds_df.prediction).count() / preds_df.count()"
   ]
  },
  {
   "cell_type": "code",
   "execution_count": 21,
   "metadata": {
    "scrolled": true
   },
   "outputs": [
    {
     "name": "stdout",
     "output_type": "stream",
     "text": [
      "Test data prediction accuracy: 0.883\n",
      "Validation data prediction accuracy: 0.887\n"
     ]
    }
   ],
   "source": [
    "print(\"Test data prediction accuracy: {0:.3f}\".format(get_accuracy_score(test_preds)))\n",
    "print(\"Validation data prediction accuracy: {0:.3f}\".format(get_accuracy_score(valid_preds)))"
   ]
  },
  {
   "cell_type": "markdown",
   "metadata": {},
   "source": [
    "# Plot confusion matrices."
   ]
  },
  {
   "cell_type": "markdown",
   "metadata": {},
   "source": [
    "## Test dataset."
   ]
  },
  {
   "cell_type": "code",
   "execution_count": 22,
   "metadata": {},
   "outputs": [],
   "source": [
    "# Get confusion matrix values.\n",
    "test_tp = test_preds.filter((test_preds.churn == 1) & (test_preds.prediction == 1)).count()\n",
    "test_tn = test_preds.filter((test_preds.churn == 0) & (test_preds.prediction == 0)).count()\n",
    "test_fp = test_preds.filter((test_preds.churn == 0) & (test_preds.prediction == 1)).count()\n",
    "test_fn = test_preds.filter((test_preds.churn == 1) & (test_preds.prediction == 0)).count()"
   ]
  },
  {
   "cell_type": "code",
   "execution_count": 23,
   "metadata": {},
   "outputs": [],
   "source": [
    "# Create confusion matrix.\n",
    "test_cm =[[test_tn, test_fp], [test_fn, test_tp]]"
   ]
  },
  {
   "cell_type": "markdown",
   "metadata": {},
   "source": [
    "## Validation dataset."
   ]
  },
  {
   "cell_type": "code",
   "execution_count": 24,
   "metadata": {},
   "outputs": [],
   "source": [
    "# Get confusion matrix values.\n",
    "valid_tp = valid_preds.filter((valid_preds.churn == 1) & (valid_preds.prediction == 1)).count()\n",
    "valid_tn = valid_preds.filter((valid_preds.churn == 0) & (valid_preds.prediction == 0)).count()\n",
    "valid_fp = valid_preds.filter((valid_preds.churn == 0) & (valid_preds.prediction == 1)).count()\n",
    "valid_fn = valid_preds.filter((valid_preds.churn == 1) & (valid_preds.prediction == 0)).count()"
   ]
  },
  {
   "cell_type": "code",
   "execution_count": 25,
   "metadata": {},
   "outputs": [],
   "source": [
    "# Create confusion matrix.\n",
    "valid_cm =[[valid_tn, valid_fp], [valid_fn, valid_tp]]"
   ]
  },
  {
   "cell_type": "markdown",
   "metadata": {},
   "source": [
    "## Plot with Seaborn."
   ]
  },
  {
   "cell_type": "code",
   "execution_count": 26,
   "metadata": {},
   "outputs": [],
   "source": [
    "# Set the tickmark names.\n",
    "classNames = ['Negative','Positive']\n",
    "\n",
    "# Set the text scale for Seaborn.\n",
    "sb.set(font_scale=1.6)"
   ]
  },
  {
   "cell_type": "code",
   "execution_count": 27,
   "metadata": {},
   "outputs": [
    {
     "data": {
      "image/png": "[encoded data removed]",
      "text/plain": [
       "<Figure size 576x576 with 2 Axes>"
      ]
     },
     "metadata": {},
     "output_type": "display_data"
    }
   ],
   "source": [
    "# Set each figure's size.\n",
    "plt.figure(figsize=(8,8))\n",
    "\n",
    "#----------\n",
    "# Test Dataset.\n",
    "#----------\n",
    "\n",
    "# Create first subplot.\n",
    "plt.subplot(1,2,1)\n",
    "\n",
    "# Set title.\n",
    "plt.title('Test Dataset')\n",
    "\n",
    "# Create confusion matrix as a Seaborn heatmap.\n",
    "sb.heatmap(test_cm, annot=np.array(test_cm), fmt='d', cbar=False, xticklabels=classNames, yticklabels=classNames, square=True)\n",
    "\n",
    "# Set y tick-label rotation angle.\n",
    "plt.yticks(rotation=0)\n",
    "\n",
    "# Set x and y axes names.\n",
    "plt.xlabel('Predicted Label')\n",
    "plt.ylabel('True Label')\n",
    "\n",
    "#----------\n",
    "# Validation Dataset.\n",
    "#----------\n",
    "\n",
    "# Create second subplot.\n",
    "plt.subplot(1,2,2)\n",
    "\n",
    "# Set title.\n",
    "plt.title('Validation Dataset')\n",
    "\n",
    "# Create confusion matrix as a Seaborn heatmap.\n",
    "sb.heatmap(valid_cm, annot=np.array(valid_cm), fmt='d', cbar=False, xticklabels=classNames, yticklabels=classNames, square=True)\n",
    "\n",
    "# Set y tick-label rotation angle.\n",
    "plt.yticks(rotation=0)\n",
    "\n",
    "# Set x axis name.\n",
    "plt.xlabel('Predicted Label')\n",
    "\n",
    "# Adjust distance from the right edge of each subplot.\n",
    "plt.subplots_adjust(right=1.7)\n",
    "\n",
    "plt.show()"
   ]
  },
  {
   "cell_type": "markdown",
   "metadata": {},
   "source": [
    "# Calculate FPR, TPR, and AUC."
   ]
  },
  {
   "cell_type": "markdown",
   "metadata": {},
   "source": [
    "## Test dataset."
   ]
  },
  {
   "cell_type": "code",
   "execution_count": 28,
   "metadata": {},
   "outputs": [],
   "source": [
    "# Create list of 'churn' column values.\n",
    "test_churn_list = test_preds.select('churn').collect()\n",
    "test_churn_list = [test_churn_list[i][0] for i in range(len(test_churn_list))]"
   ]
  },
  {
   "cell_type": "code",
   "execution_count": 29,
   "metadata": {},
   "outputs": [],
   "source": [
    "# Create list of 'prediction' column values.\n",
    "test_pred_list = test_preds.select('prediction').collect()\n",
    "test_pred_list = [test_pred_list[i][0] for i in range(len(test_pred_list))]"
   ]
  },
  {
   "cell_type": "code",
   "execution_count": 30,
   "metadata": {},
   "outputs": [],
   "source": [
    "# Get FPR, TPR.\n",
    "test_fpr, test_tpr, test_thresholds = roc_curve(test_churn_list, test_pred_list)"
   ]
  },
  {
   "cell_type": "code",
   "execution_count": 31,
   "metadata": {},
   "outputs": [],
   "source": [
    "# Get AUC.\n",
    "test_auc = auc(test_fpr, test_tpr)"
   ]
  },
  {
   "cell_type": "markdown",
   "metadata": {},
   "source": [
    "## Validation dataset."
   ]
  },
  {
   "cell_type": "code",
   "execution_count": 32,
   "metadata": {},
   "outputs": [],
   "source": [
    "# Create list of 'churn' column values.\n",
    "valid_churn_list = valid_preds.select('churn').collect()\n",
    "valid_churn_list = [valid_churn_list[i][0] for i in range(len(valid_churn_list))]"
   ]
  },
  {
   "cell_type": "code",
   "execution_count": 33,
   "metadata": {},
   "outputs": [],
   "source": [
    "# Create list of 'prediction' column values.\n",
    "valid_pred_list = valid_preds.select('prediction').collect()\n",
    "valid_pred_list = [valid_pred_list[i][0] for i in range(len(valid_pred_list))]"
   ]
  },
  {
   "cell_type": "code",
   "execution_count": 34,
   "metadata": {},
   "outputs": [],
   "source": [
    "# Get FPR, TPR.\n",
    "valid_fpr, valid_tpr, valid_thresholds = roc_curve(valid_churn_list, valid_pred_list)"
   ]
  },
  {
   "cell_type": "code",
   "execution_count": 35,
   "metadata": {},
   "outputs": [],
   "source": [
    "# Get AUC.\n",
    "valid_auc = auc(valid_fpr, valid_tpr)"
   ]
  },
  {
   "cell_type": "markdown",
   "metadata": {},
   "source": [
    "# Plot ROC curves."
   ]
  },
  {
   "cell_type": "code",
   "execution_count": 37,
   "metadata": {},
   "outputs": [
    {
     "data": {
      "text/plain": [
       "<Figure size 432x288 with 0 Axes>"
      ]
     },
     "metadata": {},
     "output_type": "display_data"
    },
    {
     "data": {
      "image/png": "[encoded data removed]",
      "text/plain": [
       "<Figure size 720x432 with 2 Axes>"
      ]
     },
     "metadata": {},
     "output_type": "display_data"
    }
   ],
   "source": [
    "# Clear plots.\n",
    "plt.clf()\n",
    "\n",
    "# Set plot and text sizes.\n",
    "plt.figure(figsize=(10,6))\n",
    "plt.rcParams.update({'font.size': 13, 'xtick.labelsize' : 18, 'ytick.labelsize' : 18})\n",
    "\n",
    "#============\n",
    "# Test ROC curve\n",
    "#============\n",
    "\n",
    "# Create first subplot with a white background.\n",
    "plt.subplot(1,2,1, fc='white')\n",
    "\n",
    "# ax = plt.axes()\n",
    "# ax.set_facecolor('white')\n",
    "\n",
    "# Set title.\n",
    "plt.title('Test Dataset')\n",
    "\n",
    "# Plot the data, fpr = x, tpr = y. Bold, with a label for the AUC.\n",
    "plt.plot(test_fpr, test_tpr, 'b', label = 'AUC = %0.3f' % test_auc)\n",
    "\n",
    "# Place legend on plot.\n",
    "plt.legend(loc = 'lower right')\n",
    "\n",
    "# Plot a dotted red straight line for comparison\n",
    "plt.plot([0, 1], [0, 1],'r--')\n",
    "\n",
    "# Set x and y boundaries.\n",
    "plt.xlim([0, 1])\n",
    "plt.ylim([0, 1])\n",
    "\n",
    "# Label axes.\n",
    "plt.ylabel('True Positive Rate')\n",
    "plt.xlabel('False Positive Rate')\n",
    "\n",
    "#============\n",
    "# Validation ROC curve\n",
    "#============\n",
    "\n",
    "# Create second subplot with a white background.\n",
    "plt.subplot(1,2,2, fc='white')\n",
    "\n",
    "# Set title.\n",
    "plt.title('Validation Dataset')\n",
    "\n",
    "# Plot the data, fpr = x, tpr = y. Bold, with a label for the AUC.\n",
    "plt.plot(valid_fpr, valid_tpr, 'b', label = 'AUC = %0.3f' % valid_auc)\n",
    "\n",
    "# Place legend on plot.\n",
    "plt.legend(loc = 'lower right')\n",
    "\n",
    "# Plot a dotted red straight line for comparison\n",
    "plt.plot([0, 1], [0, 1],'r--')\n",
    "\n",
    "# Set x and y boundaries\n",
    "plt.xlim([0, 1])\n",
    "plt.ylim([0, 1])\n",
    "\n",
    "# Label x axis.\n",
    "plt.xlabel('False Positive Rate')\n",
    "\n",
    "# Adjust distance from the right edge of each subplot.\n",
    "plt.subplots_adjust(right=1.3)\n",
    "\n",
    "plt.show()"
   ]
  },
  {
   "cell_type": "code",
   "execution_count": null,
   "metadata": {},
   "outputs": [],
   "source": []
  }
 ],
 "metadata": {
  "kernelspec": {
   "display_name": "Python 3",
   "language": "python",
   "name": "python3"
  },
  "language_info": {
   "codemirror_mode": {
    "name": "ipython",
    "version": 3
   },
   "file_extension": ".py",
   "mimetype": "text/x-python",
   "name": "python",
   "nbconvert_exporter": "python",
   "pygments_lexer": "ipython3",
   "version": "3.7.3"
  }
 },
 "nbformat": 4,
 "nbformat_minor": 2
}
